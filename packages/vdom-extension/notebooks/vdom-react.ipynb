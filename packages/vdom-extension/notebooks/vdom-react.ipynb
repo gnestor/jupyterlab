{
 "cells": [
  {
   "cell_type": "markdown",
   "metadata": {},
   "source": [
    "# vdom with React components\n",
    "\n",
    "This branch of jupyterlab includes a forked version of @nteract/transform-vdom that enables vdom to render React component in addition to native HTML elements.\n",
    "\n",
    "Let's start by creating a vdom object from scratch and rendering it using ipython's display function:"
   ]
  },
  {
   "cell_type": "code",
   "execution_count": 41,
   "metadata": {},
   "outputs": [
    {
     "data": {
      "application/vdom.v1+json": {
       "attributes": {},
       "children": [
        "click me"
       ],
       "import": {
        "module": "Button",
        "package": "@blueprintjs/core"
       },
       "tagName": "Button"
      }
     },
     "metadata": {},
     "output_type": "display_data"
    }
   ],
   "source": [
    "from IPython.display import HTML, display\n",
    "\n",
    "display({\n",
    "    'application/vdom.v1+json': {\n",
    "        'tagName': 'Button', \n",
    "        'attributes': {}, \n",
    "        'children': ['click me'],\n",
    "        'import': {\n",
    "            'package': '@blueprintjs/core',\n",
    "            'module': 'Button'\n",
    "        }\n",
    "    }\n",
    "}, raw=True)"
   ]
  },
  {
   "cell_type": "markdown",
   "metadata": {},
   "source": [
    "A few things to notice:\n",
    "\n",
    "* We have included a new `import` key in our vdom object\n",
    "* `import` allows the user to specify a React component to import and use in lieu of a native HTML element\n",
    "* In the above example, we are specifying an npm package (@blueprintjs/core) and named import or _module_ from that package (Button)\n",
    "* When an `import` key is provided, transform-vdom dynamically import the specified module from npm (using dev.jspm.io) and replace the vdom component's `tagName` property with the imported React component.\n",
    "\n",
    "TLDR;\n",
    "\n",
    "The above output is a React component that was dynamically imported from npm.\n",
    "\n",
    "Next, let's create a convenient function that will allow us to import React components and use them like we would any other vdom component. Let's call this function `import_component` and let's model it after vdom's own `create_component`:"
   ]
  },
  {
   "cell_type": "code",
   "execution_count": 42,
   "metadata": {},
   "outputs": [],
   "source": [
    "from vdom import create_component, create_event_handler, VDOM\n",
    "\n",
    "class ImportedVDOM(VDOM):\n",
    "    __slots__ = ['tag_name', 'attributes', 'style', 'children', 'key', 'event_handlers', 'package', 'module', '_frozen']\n",
    "    def __init__(\n",
    "        self,\n",
    "        tag_name,\n",
    "        attributes=None,\n",
    "        style=None,\n",
    "        children=None,\n",
    "        key=None,\n",
    "        event_handlers=None,\n",
    "        schema=None,\n",
    "        package=None,\n",
    "        module=None\n",
    "    ):\n",
    "        self.package = package\n",
    "        self.module = module\n",
    "        super().__init__(\n",
    "            tag_name,\n",
    "            attributes,\n",
    "            style,\n",
    "            children,\n",
    "            key,\n",
    "            event_handlers,\n",
    "            schema\n",
    "        )\n",
    "        \n",
    "    def to_dict(self):\n",
    "        \"\"\"Converts VDOM object to a dictionary that passes our schema\n",
    "        \"\"\"\n",
    "        attributes = dict(self.attributes.items())\n",
    "        if self.style:\n",
    "            attributes.update({\"style\": dict(self.style.items())})\n",
    "        vdom_dict = {'tagName': self.tag_name, 'attributes': attributes}\n",
    "        if self.event_handlers:\n",
    "            event_handlers = dict(self.event_handlers.items())\n",
    "            for key, value in event_handlers.items():\n",
    "                value = create_event_handler(key, value)\n",
    "                event_handlers[key] = value\n",
    "            vdom_dict['eventHandlers'] = event_handlers\n",
    "        if self.key:\n",
    "            vdom_dict['key'] = self.key\n",
    "        vdom_dict['children'] = [c.to_dict() if isinstance(c, VDOM) else c for c in self.children]\n",
    "        vdom_dict['import'] = {'package': self.package, 'module': self.module}\n",
    "        return vdom_dict\n",
    "    \n",
    "def import_component(package, module=None):\n",
    "    def _component(*children, **kwargs):\n",
    "        if 'children' in kwargs:\n",
    "            children = kwargs.pop('children')\n",
    "        else:\n",
    "            # Flatten children under specific circumstances\n",
    "            # This supports the use case of div([a, b, c])\n",
    "            # And allows users to skip the * operator\n",
    "            if len(children) == 1 and isinstance(children[0], list):\n",
    "                # We want children to be tuples and not lists, so\n",
    "                # they can be immutable\n",
    "                children = tuple(children[0])\n",
    "        style = None\n",
    "        event_handlers = None\n",
    "        attributes = dict(**kwargs)\n",
    "        if 'style' in kwargs:\n",
    "            style = kwargs.pop('style')\n",
    "        if 'attributes' in kwargs:\n",
    "            attributes = kwargs['attributes']\n",
    "        for key, value in attributes.items():\n",
    "            if callable(value):\n",
    "                attributes = attributes.copy()\n",
    "                if event_handlers == None:\n",
    "                    event_handlers = {key: attributes.pop(key)}\n",
    "                else:\n",
    "                    event_handlers[key] = attributes.pop(key)\n",
    "        v = ImportedVDOM('div', attributes, style, children, None, event_handlers, package=package, module=module)\n",
    "        return v\n",
    "\n",
    "    return _component"
   ]
  },
  {
   "cell_type": "markdown",
   "metadata": {},
   "source": [
    "Excellent, now we can simply:"
   ]
  },
  {
   "cell_type": "code",
   "execution_count": 43,
   "metadata": {},
   "outputs": [
    {
     "data": {
      "application/vdom.v1+json": {
       "attributes": {},
       "children": [
        "test"
       ],
       "import": {
        "module": "Button",
        "package": "@blueprintjs/core"
       },
       "tagName": "div"
      },
      "text/html": [
       "<div>test</div>"
      ],
      "text/plain": [
       "<div>test</div>"
      ]
     },
     "execution_count": 43,
     "metadata": {},
     "output_type": "execute_result"
    }
   ],
   "source": [
    "Button = import_component('@blueprintjs/core', 'Button')\n",
    "\n",
    "Button('test')"
   ]
  },
  {
   "cell_type": "markdown",
   "metadata": {},
   "source": [
    "Ok, so we can import a Button component from the [blueprintjs](https://blueprintjs.com/docs/#core) package and render it. Yippee! What else can we do?"
   ]
  },
  {
   "cell_type": "code",
   "execution_count": 44,
   "metadata": {},
   "outputs": [
    {
     "data": {
      "application/vdom.v1+json": {
       "attributes": {},
       "children": [
        "5"
       ],
       "eventHandlers": {
        "onClick": "-9223372036572305285_onClick"
       },
       "import": {
        "module": "Button",
        "package": "@blueprintjs/core"
       },
       "tagName": "div"
      },
      "text/html": [
       "<div>5</div>"
      ],
      "text/plain": [
       "<div>5</div>"
      ]
     },
     "metadata": {},
     "output_type": "display_data"
    }
   ],
   "source": [
    "count = 1\n",
    "\n",
    "def handle_click(event):\n",
    "    global count\n",
    "    count += 1\n",
    "    counter.update(render_counter())\n",
    "\n",
    "def render_counter():\n",
    "    return Button(str(count), onClick=handle_click)\n",
    "\n",
    "counter = display(render_counter(), display_id=True)\n",
    "\n",
    "counter;"
   ]
  },
  {
   "cell_type": "markdown",
   "metadata": {},
   "source": [
    "Oh wow, we can handle events like clicks using Python functions! "
   ]
  },
  {
   "cell_type": "code",
   "execution_count": 45,
   "metadata": {},
   "outputs": [
    {
     "data": {
      "application/vdom.v1+json": {
       "attributes": {
        "value": 0.5
       },
       "children": [],
       "import": {
        "module": "ProgressBar",
        "package": "@blueprintjs/core"
       },
       "tagName": "div"
      },
      "text/html": [
       "<div></div>"
      ],
      "text/plain": [
       "<div></div>"
      ]
     },
     "execution_count": 45,
     "metadata": {},
     "output_type": "execute_result"
    }
   ],
   "source": [
    "Progress = import_component('@blueprintjs/core', 'ProgressBar')\n",
    "\n",
    "Progress(value=0.5)"
   ]
  },
  {
   "cell_type": "markdown",
   "metadata": {},
   "source": [
    "Ok, I progress bar is a little more exciting, but aren't there native HTML progress elements? Show me something exciting that I don't get without React..."
   ]
  },
  {
   "cell_type": "code",
   "execution_count": 46,
   "metadata": {},
   "outputs": [
    {
     "data": {
      "application/vdom.v1+json": {
       "attributes": {
        "width": "100%"
       },
       "children": [],
       "import": {
        "module": null,
        "package": "react-canvas-draw"
       },
       "tagName": "div"
      },
      "text/html": [
       "<div width=\"100%\"></div>"
      ],
      "text/plain": [
       "<div width=\"100%\"></div>"
      ]
     },
     "execution_count": 46,
     "metadata": {},
     "output_type": "execute_result"
    }
   ],
   "source": [
    "CanvasDraw = import_component('react-canvas-draw')\n",
    "\n",
    "CanvasDraw(width=\"100%\")"
   ]
  },
  {
   "cell_type": "markdown",
   "metadata": {},
   "source": [
    "We don't hear too much about audio or music in Jupyter Notebooks (except from [Carol Willing](https://www.youtube.com/watch?v=DmfspNLML_k)), maybe because there aren't ipywidgets for it, so let's render a piano using [react-piano-component](https://github.com/lillydinhle/react-piano-component)."
   ]
  },
  {
   "cell_type": "code",
   "execution_count": 48,
   "metadata": {},
   "outputs": [
    {
     "data": {
      "application/vdom.v1+json": {
       "attributes": {},
       "children": [],
       "import": {
        "module": null,
        "package": "/files/vdom/ReactPianoComponent.js?3"
       },
       "tagName": "div"
      },
      "text/html": [
       "<div></div>"
      ],
      "text/plain": [
       "<div></div>"
      ]
     },
     "execution_count": 48,
     "metadata": {},
     "output_type": "execute_result"
    }
   ],
   "source": [
    "Piano = import_component('./ReactPianoComponent.js')\n",
    "\n",
    "Piano()"
   ]
  },
  {
   "cell_type": "code",
   "execution_count": null,
   "metadata": {},
   "outputs": [],
   "source": []
  }
 ],
 "metadata": {
  "kernelspec": {
   "display_name": "Python 3",
   "language": "python",
   "name": "python3"
  },
  "language_info": {
   "codemirror_mode": {
    "name": "ipython",
    "version": 3
   },
   "file_extension": ".py",
   "mimetype": "text/x-python",
   "name": "python",
   "nbconvert_exporter": "python",
   "pygments_lexer": "ipython3",
   "version": "3.6.7"
  }
 },
 "nbformat": 4,
 "nbformat_minor": 2
}
