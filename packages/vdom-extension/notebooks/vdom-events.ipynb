{
 "cells": [
  {
   "cell_type": "markdown",
   "metadata": {},
   "source": [
    "# vdom events"
   ]
  },
  {
   "cell_type": "code",
   "execution_count": 3,
   "metadata": {},
   "outputs": [
    {
     "data": {
      "application/json": {
       "altKey": false,
       "button": 0,
       "buttons": 0,
       "clientX": 450,
       "clientY": 568,
       "ctrlKey": false,
       "metaKey": false,
       "pageX": 450,
       "pageY": 568,
       "screenX": 450,
       "screenY": 678,
       "shiftKey": false
      },
      "text/plain": [
       "<IPython.core.display.JSON object>"
      ]
     },
     "metadata": {
      "application/json": {
       "expanded": false,
       "root": "root"
      }
     },
     "output_type": "display_data"
    }
   ],
   "source": [
    "from vdom.helpers import *\n",
    "from IPython.display import JSON\n",
    "\n",
    "event_output = display(JSON({}), display_id=True)\n",
    "\n",
    "def handle_event(event):\n",
    "    event_output.update(JSON(event))\n",
    "\n",
    "event_output;"
   ]
  },
  {
   "cell_type": "markdown",
   "metadata": {},
   "source": [
    "## Input events"
   ]
  },
  {
   "cell_type": "code",
   "execution_count": 4,
   "metadata": {},
   "outputs": [
    {
     "data": {
      "application/vdom.v1+json": {
       "attributes": {
        "placeholder": "type something",
        "type": "text"
       },
       "children": [],
       "eventHandlers": {
        "onChange": "-9223372036571535339_onChange"
       },
       "tagName": "input"
      },
      "text/html": [
       "<input placeholder=\"type something\" type=\"text\"></input>"
      ],
      "text/plain": [
       "<input placeholder=\"type something\" type=\"text\"></input>"
      ]
     },
     "execution_count": 4,
     "metadata": {},
     "output_type": "execute_result"
    }
   ],
   "source": [
    "input_(\n",
    "    type='text', \n",
    "    placeholder='type something', \n",
    "    onChange=handle_event\n",
    ")"
   ]
  },
  {
   "cell_type": "markdown",
   "metadata": {},
   "source": [
    "## Button events"
   ]
  },
  {
   "cell_type": "code",
   "execution_count": 5,
   "metadata": {},
   "outputs": [
    {
     "data": {
      "application/vdom.v1+json": {
       "attributes": {},
       "children": [
        "click me"
       ],
       "eventHandlers": {
        "onClick": "-9223372036571535339_onClick"
       },
       "tagName": "button"
      },
      "text/html": [
       "<button>click me</button>"
      ],
      "text/plain": [
       "<button>click me</button>"
      ]
     },
     "execution_count": 5,
     "metadata": {},
     "output_type": "execute_result"
    }
   ],
   "source": [
    "button(\n",
    "    'click me', \n",
    "    onClick=handle_event\n",
    ")"
   ]
  },
  {
   "cell_type": "markdown",
   "metadata": {},
   "source": [
    "## Focus events"
   ]
  },
  {
   "cell_type": "code",
   "execution_count": 4,
   "metadata": {},
   "outputs": [
    {
     "data": {
      "application/vdom.v1+json": {
       "attributes": {
        "placeholder": "click me",
        "type": "text"
       },
       "children": [],
       "eventHandlers": {
        "onBlur": "-9223372036578587064_onBlur",
        "onFocus": "-9223372036578587064_onFocus"
       },
       "tagName": "input"
      },
      "text/html": [
       "<input placeholder=\"click me\" type=\"text\"></input>"
      ],
      "text/plain": [
       "<input placeholder=\"click me\" type=\"text\"></input>"
      ]
     },
     "execution_count": 4,
     "metadata": {},
     "output_type": "execute_result"
    }
   ],
   "source": [
    "input_(\n",
    "    type='text', \n",
    "    placeholder='click me', \n",
    "    onFocus=handle_event, \n",
    "    onBlur=handle_event\n",
    ")"
   ]
  },
  {
   "cell_type": "markdown",
   "metadata": {},
   "source": [
    "## Scroll events"
   ]
  },
  {
   "cell_type": "code",
   "execution_count": 5,
   "metadata": {},
   "outputs": [
    {
     "data": {
      "application/vdom.v1+json": {
       "attributes": {
        "style": {
         "height": "360px",
         "overflow": "scroll",
         "width": "100%"
        }
       },
       "children": [
        {
         "attributes": {
          "style": {
           "background": "linear-gradient(white, black)",
           "height": "3600px",
           "width": "100%"
          }
         },
         "children": [],
         "tagName": "div"
        }
       ],
       "eventHandlers": {
        "onScroll": "-9223372036578587064_onScroll",
        "onWheel": "-9223372036578587064_onWheel"
       },
       "tagName": "div"
      },
      "text/html": [
       "<div style=\"height: 360px; overflow: scroll; width: 100%\"><div style=\"background: linear-gradient(white, black); height: 3600px; width: 100%\"></div></div>"
      ],
      "text/plain": [
       "<div style=\"height: 360px; overflow: scroll; width: 100%\"><div style=\"background: linear-gradient(white, black); height: 3600px; width: 100%\"></div></div>"
      ]
     },
     "execution_count": 5,
     "metadata": {},
     "output_type": "execute_result"
    }
   ],
   "source": [
    "styles = {\n",
    "    'innerDiv': {\n",
    "        'width': '100%',\n",
    "        'height': '3600px',\n",
    "        'background': 'linear-gradient(white, black)'\n",
    "    },\n",
    "    'outerDiv': {\n",
    "        'width': '100%',\n",
    "        'height': '360px',\n",
    "        'overflow': 'scroll'\n",
    "    }\n",
    "}\n",
    "div(\n",
    "    div(style=styles['innerDiv']), \n",
    "    style=styles['outerDiv'], \n",
    "    onScroll=handle_event,\n",
    "    onWheel=handle_event\n",
    ")"
   ]
  },
  {
   "cell_type": "markdown",
   "metadata": {},
   "source": [
    "## Keyboard events"
   ]
  },
  {
   "cell_type": "code",
   "execution_count": 6,
   "metadata": {},
   "outputs": [
    {
     "data": {
      "application/vdom.v1+json": {
       "attributes": {
        "placeholder": "press a key",
        "type": "text"
       },
       "children": [],
       "eventHandlers": {
        "onKeyDown": "-9223372036578587064_onKeyDown",
        "onKeyUp": "-9223372036578587064_onKeyUp"
       },
       "tagName": "input"
      },
      "text/html": [
       "<input placeholder=\"press a key\" type=\"text\"></input>"
      ],
      "text/plain": [
       "<input placeholder=\"press a key\" type=\"text\"></input>"
      ]
     },
     "execution_count": 6,
     "metadata": {},
     "output_type": "execute_result"
    }
   ],
   "source": [
    "input_(\n",
    "    type='text', \n",
    "    placeholder='press a key', \n",
    "    onKeyDown=handle_event, \n",
    "    onKeyUp=handle_event\n",
    ")"
   ]
  },
  {
   "cell_type": "markdown",
   "metadata": {},
   "source": [
    "## Mouse events"
   ]
  },
  {
   "cell_type": "code",
   "execution_count": 7,
   "metadata": {},
   "outputs": [
    {
     "data": {
      "application/vdom.v1+json": {
       "attributes": {
        "style": {
         "background": "whitesmoke",
         "cursor": "crosshair",
         "height": "360px",
         "width": "100%"
        }
       },
       "children": [],
       "eventHandlers": {
        "onContextMenu": "-9223372036578587064_onContextMenu",
        "onDoubleClick": "-9223372036578587064_onDoubleClick",
        "onDrag": "-9223372036578587064_onDrag",
        "onDrop": "-9223372036578587064_onDrop",
        "onMouseDown": "-9223372036578587064_onMouseDown",
        "onMouseOut": "-9223372036578587064_onMouseOut",
        "onMouseOver": "-9223372036578587064_onMouseOver",
        "onMouseUp": "-9223372036578587064_onMouseUp"
       },
       "tagName": "div"
      },
      "text/html": [
       "<div style=\"background: whitesmoke; cursor: crosshair; height: 360px; width: 100%\"></div>"
      ],
      "text/plain": [
       "<div style=\"background: whitesmoke; cursor: crosshair; height: 360px; width: 100%\"></div>"
      ]
     },
     "execution_count": 7,
     "metadata": {},
     "output_type": "execute_result"
    }
   ],
   "source": [
    "styles = {\n",
    "    'width': '100%',\n",
    "    'height': '360px',\n",
    "    'background': 'whitesmoke',\n",
    "    'cursor': 'crosshair'\n",
    "}\n",
    "\n",
    "div(\n",
    "    style=styles, \n",
    "    onMouseOver=handle_event,\n",
    "    onMouseOut=handle_event,\n",
    "#     onMouseMove=handle_event,\n",
    "    onMouseDown=handle_event,\n",
    "    onMouseUp=handle_event,\n",
    "    onDoubleClick=handle_event,\n",
    "    onContextMenu=handle_event,\n",
    "    onDrag=handle_event,\n",
    "    onDrop=handle_event,\n",
    ")"
   ]
  },
  {
   "cell_type": "markdown",
   "metadata": {},
   "source": [
    "## Clipboard events"
   ]
  },
  {
   "cell_type": "code",
   "execution_count": 8,
   "metadata": {},
   "outputs": [
    {
     "data": {
      "application/vdom.v1+json": {
       "attributes": {},
       "children": [
        {
         "attributes": {
          "style": {
           "display": "block",
           "marginBottom": "10px"
          },
          "type": "text",
          "value": "copy me"
         },
         "children": [],
         "eventHandlers": {
          "onCopy": "-9223372036578587064_onCopy",
          "onCut": "-9223372036578587064_onCut"
         },
         "tagName": "input"
        },
        {
         "attributes": {
          "placeholder": "paste to me",
          "style": {
           "display": "block",
           "marginBottom": "10px"
          },
          "type": "text"
         },
         "children": [],
         "eventHandlers": {
          "onPaste": "-9223372036578587064_onPaste"
         },
         "tagName": "input"
        }
       ],
       "tagName": "div"
      },
      "text/html": [
       "<div><input style=\"display: block; margin-bottom: 10px\" type=\"text\" value=\"copy me\"></input><input style=\"display: block; margin-bottom: 10px\" placeholder=\"paste to me\" type=\"text\"></input></div>"
      ],
      "text/plain": [
       "<div><input style=\"display: block; margin-bottom: 10px\" type=\"text\" value=\"copy me\"></input><input style=\"display: block; margin-bottom: 10px\" placeholder=\"paste to me\" type=\"text\"></input></div>"
      ]
     },
     "execution_count": 8,
     "metadata": {},
     "output_type": "execute_result"
    }
   ],
   "source": [
    "styles = {\n",
    "    'display': 'block',\n",
    "    'marginBottom': '10px'\n",
    "}\n",
    "\n",
    "copy_input = input_(\n",
    "    type='text', \n",
    "    value='copy me', \n",
    "    style=styles, \n",
    "    onCopy=handle_event, \n",
    "    onCut=handle_event\n",
    ")\n",
    "\n",
    "paste_input = input_(\n",
    "    type='text', \n",
    "    placeholder='paste to me', \n",
    "    style=styles, \n",
    "    onPaste=handle_event\n",
    ")\n",
    "\n",
    "div(copy_input, paste_input)"
   ]
  },
  {
   "cell_type": "markdown",
   "metadata": {},
   "source": [
    "## Selection events"
   ]
  },
  {
   "cell_type": "code",
   "execution_count": 9,
   "metadata": {},
   "outputs": [
    {
     "data": {
      "application/vdom.v1+json": {
       "attributes": {
        "type": "text",
        "value": "select me"
       },
       "children": [],
       "eventHandlers": {
        "onSelect": "-9223372036578587064_onSelect"
       },
       "tagName": "input"
      },
      "text/html": [
       "<input type=\"text\" value=\"select me\"></input>"
      ],
      "text/plain": [
       "<input type=\"text\" value=\"select me\"></input>"
      ]
     },
     "execution_count": 9,
     "metadata": {},
     "output_type": "execute_result"
    }
   ],
   "source": [
    "input_(\n",
    "    type='text', \n",
    "    value='select me', \n",
    "    onSelect=handle_event\n",
    ")"
   ]
  },
  {
   "cell_type": "markdown",
   "metadata": {},
   "source": [
    "## Media events"
   ]
  },
  {
   "cell_type": "code",
   "execution_count": 10,
   "metadata": {},
   "outputs": [
    {
     "data": {
      "application/vdom.v1+json": {
       "attributes": {
        "controls": true,
        "width": "100%"
       },
       "children": [
        {
         "attributes": {
          "src": "https://github.com/jupyter-widgets/ipywidgets/blob/master/docs/source/examples/images/Big.Buck.Bunny.mp4?raw=true",
          "type": "video/mp4"
         },
         "children": [],
         "tagName": "source"
        }
       ],
       "eventHandlers": {
        "onEnded": "-9223372036578587064_onEnded",
        "onPause": "-9223372036578587064_onPause",
        "onPlay": "-9223372036578587064_onPlay",
        "onSeeked": "-9223372036578587064_onSeeked"
       },
       "tagName": "video"
      },
      "text/html": [
       "<video controls width=\"100%\"><source src=\"https://github.com/jupyter-widgets/ipywidgets/blob/master/docs/source/examples/images/Big.Buck.Bunny.mp4?raw=true\" type=\"video/mp4\"></source></video>"
      ],
      "text/plain": [
       "<video controls width=\"100%\"><source src=\"https://github.com/jupyter-widgets/ipywidgets/blob/master/docs/source/examples/images/Big.Buck.Bunny.mp4?raw=true\" type=\"video/mp4\"></source></video>"
      ]
     },
     "execution_count": 10,
     "metadata": {},
     "output_type": "execute_result"
    }
   ],
   "source": [
    "video(\n",
    "    source(src='https://github.com/jupyter-widgets/ipywidgets/blob/master/docs/source/examples/images/Big.Buck.Bunny.mp4?raw=true', type='video/mp4'),\n",
    "    width='100%',\n",
    "    controls=True,\n",
    "    onPlay=handle_event,\n",
    "    onPause=handle_event,\n",
    "    onSeeked=handle_event,\n",
    "    onEnded=handle_event\n",
    ")"
   ]
  },
  {
   "cell_type": "markdown",
   "metadata": {},
   "source": [
    "## Image events"
   ]
  },
  {
   "cell_type": "code",
   "execution_count": 11,
   "metadata": {},
   "outputs": [
    {
     "data": {
      "application/vdom.v1+json": {
       "attributes": {
        "src": "/files/vdom/vdom-experimental-extension.gif",
        "width": "100%"
       },
       "children": [],
       "eventHandlers": {
        "onError": "-9223372036578587064_onError",
        "onLoad": "-9223372036578587064_onLoad"
       },
       "tagName": "img"
      },
      "text/html": [
       "<img src=\"/files/vdom/vdom-experimental-extension.gif\" width=\"100%\"></img>"
      ],
      "text/plain": [
       "<img src=\"/files/vdom/vdom-experimental-extension.gif\" width=\"100%\"></img>"
      ]
     },
     "execution_count": 11,
     "metadata": {},
     "output_type": "execute_result"
    }
   ],
   "source": [
    "img(\n",
    "    src='/files/vdom/vdom-experimental-extension.gif',\n",
    "    width='100%',\n",
    "    onLoad=handle_event,\n",
    "    onError=handle_event\n",
    ")"
   ]
  },
  {
   "cell_type": "code",
   "execution_count": null,
   "metadata": {},
   "outputs": [],
   "source": []
  }
 ],
 "metadata": {
  "kernelspec": {
   "display_name": "Python 3",
   "language": "python",
   "name": "python3"
  },
  "language_info": {
   "codemirror_mode": {
    "name": "ipython",
    "version": 3
   },
   "file_extension": ".py",
   "mimetype": "text/x-python",
   "name": "python",
   "nbconvert_exporter": "python",
   "pygments_lexer": "ipython3",
   "version": "3.6.7"
  },
  "nteract": {
   "version": "nteract-on-jupyter@1.9.15"
  }
 },
 "nbformat": 4,
 "nbformat_minor": 2
}
